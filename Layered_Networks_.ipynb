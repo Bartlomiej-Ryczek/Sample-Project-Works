{
  "nbformat": 4,
  "nbformat_minor": 0,
  "metadata": {
    "colab": {
      "provenance": [],
      "authorship_tag": "ABX9TyO1LbYq3RobvvD23J0J8Y6H"
    },
    "kernelspec": {
      "name": "python3",
      "display_name": "Python 3"
    },
    "language_info": {
      "name": "python"
    }
  },
  "cells": [
    {
      "cell_type": "markdown",
      "source": [
        "# Activation Function example: Sigmoid Function"
      ],
      "metadata": {
        "id": "uq6XqOvESr0B"
      }
    },
    {
      "cell_type": "code",
      "source": [
        "import numpy as np\n",
        "import sklearn"
      ],
      "metadata": {
        "id": "Wfjcq5dwSuds"
      },
      "execution_count": 1,
      "outputs": []
    },
    {
      "cell_type": "code",
      "source": [
        "weights = np.array([.8,.1])\n",
        "inputs = np.array([25,35])"
      ],
      "metadata": {
        "id": "0renyiK5UKW5"
      },
      "execution_count": 2,
      "outputs": []
    },
    {
      "cell_type": "code",
      "source": [
        "def summation_function(vector):\n",
        "  result = vector.dot(weights)\n",
        "  return result\n",
        "\n",
        "def sigmoid_activation_function(sum):\n",
        "  return 1/(1+(np.exp(-sum)))\n",
        "\n",
        "#sigmoid_activation_function(summation_function(inputs))\n",
        "\n",
        "sigmoid_activation_function(-25.5)"
      ],
      "metadata": {
        "colab": {
          "base_uri": "https://localhost:8080/"
        },
        "id": "rk0gmTooTXp4",
        "outputId": "ef2bca8c-88f1-4a16-fe9c-997103d9bc3a"
      },
      "execution_count": 3,
      "outputs": [
        {
          "output_type": "execute_result",
          "data": {
            "text/plain": [
              "8.423463754397692e-12"
            ]
          },
          "metadata": {},
          "execution_count": 3
        }
      ]
    },
    {
      "cell_type": "code",
      "source": [
        "inputs = np.array([[0,0], [0,1], [1,0], [1,1]])\n",
        "inputs.shape\n",
        "\n",
        "outputs = np.array([[0],[1],[1],[0]])\n",
        "outputs.shape\n",
        "\n",
        "weights0 = np.array([[-0.424, -0.740, -0.961],\n",
        "                    [0.358, -0.577, -0.469]]) #weights for x1 and x2, first array is x1\n",
        "\n",
        "weights1 = np.array([[-0.017],\n",
        "                    [-0.893],\n",
        "                    [0.148]]) #weights from hidden layer to output layer\n",
        "\n",
        "epochs = 100 #since we can't get 100% accuracy for more complex problems"
      ],
      "metadata": {
        "id": "i9Dqd4ey3X_5"
      },
      "execution_count": 4,
      "outputs": []
    },
    {
      "cell_type": "code",
      "source": [
        "input_layer = inputs"
      ],
      "metadata": {
        "id": "pmQf2-vd52ib"
      },
      "execution_count": 5,
      "outputs": []
    },
    {
      "cell_type": "code",
      "source": [
        "sum_synapse0 = np.dot(input_layer, weights0)\n",
        "print(sum_synapse0) #first row is sum function for 0,0: 2nd row is for 0,1 and so on\n"
      ],
      "metadata": {
        "colab": {
          "base_uri": "https://localhost:8080/"
        },
        "id": "BBaBknJK5_WS",
        "outputId": "04f8237a-5e52-48f9-f769-d2aaab540440"
      },
      "execution_count": 6,
      "outputs": [
        {
          "output_type": "stream",
          "name": "stdout",
          "text": [
            "[[ 0.     0.     0.   ]\n",
            " [ 0.358 -0.577 -0.469]\n",
            " [-0.424 -0.74  -0.961]\n",
            " [-0.066 -1.317 -1.43 ]]\n"
          ]
        }
      ]
    },
    {
      "cell_type": "code",
      "source": [
        "hidden_layer = sigmoid_activation_function(sum_synapse0)\n",
        "hidden_layer"
      ],
      "metadata": {
        "colab": {
          "base_uri": "https://localhost:8080/"
        },
        "id": "TouDY6Rq6rBV",
        "outputId": "01a9ba62-d313-4ded-de79-6b143c13fc05"
      },
      "execution_count": 7,
      "outputs": [
        {
          "output_type": "execute_result",
          "data": {
            "text/plain": [
              "array([[0.5       , 0.5       , 0.5       ],\n",
              "       [0.5885562 , 0.35962319, 0.38485296],\n",
              "       [0.39555998, 0.32300414, 0.27667802],\n",
              "       [0.48350599, 0.21131785, 0.19309868]])"
            ]
          },
          "metadata": {},
          "execution_count": 7
        }
      ]
    },
    {
      "cell_type": "code",
      "source": [
        "#now we repeat for the hidden layer to output layer\n",
        "sum_synapse1 = np.dot(hidden_layer, weights1)\n",
        "print(sum_synapse1)\n",
        "\n",
        "output_layer = sigmoid_activation_function(sum_synapse1)\n",
        "output_layer"
      ],
      "metadata": {
        "colab": {
          "base_uri": "https://localhost:8080/"
        },
        "id": "HrE26W617Uua",
        "outputId": "c18f294a-d1be-46c8-997b-633218327e5e"
      },
      "execution_count": 8,
      "outputs": [
        {
          "output_type": "stream",
          "name": "stdout",
          "text": [
            "[[-0.381     ]\n",
            " [-0.27419072]\n",
            " [-0.25421887]\n",
            " [-0.16834784]]\n"
          ]
        },
        {
          "output_type": "execute_result",
          "data": {
            "text/plain": [
              "array([[0.40588573],\n",
              "       [0.43187857],\n",
              "       [0.43678536],\n",
              "       [0.45801216]])"
            ]
          },
          "metadata": {},
          "execution_count": 8
        }
      ]
    },
    {
      "cell_type": "markdown",
      "source": [
        "# We also want to keep track of our errors, which calls for a loss-function\n",
        "\n",
        "error = correct - prediction, but other error calcs are usable"
      ],
      "metadata": {
        "id": "iLYLnXrx9e_s"
      }
    },
    {
      "cell_type": "code",
      "source": [
        "outputs\n",
        "output_layer\n",
        "print(output_layer)\n",
        "\n",
        "error_layer = outputs - output_layer\n",
        "print(error_layer)\n",
        "\n",
        "average_error = np.mean(abs(error_layer))\n",
        "average_error"
      ],
      "metadata": {
        "colab": {
          "base_uri": "https://localhost:8080/"
        },
        "id": "IRXgabXw9lb6",
        "outputId": "836d08fe-2efb-4052-952d-73b781447364"
      },
      "execution_count": 9,
      "outputs": [
        {
          "output_type": "stream",
          "name": "stdout",
          "text": [
            "[[0.40588573]\n",
            " [0.43187857]\n",
            " [0.43678536]\n",
            " [0.45801216]]\n",
            "[[-0.40588573]\n",
            " [ 0.56812143]\n",
            " [ 0.56321464]\n",
            " [-0.45801216]]\n"
          ]
        },
        {
          "output_type": "execute_result",
          "data": {
            "text/plain": [
              "0.49880848923713045"
            ]
          },
          "metadata": {},
          "execution_count": 9
        }
      ]
    },
    {
      "cell_type": "markdown",
      "source": [
        " ## Sigmiod Derivative Example for Gradient Descent"
      ],
      "metadata": {
        "id": "-XdveEJoyR9d"
      }
    },
    {
      "cell_type": "code",
      "source": [
        "def sigmoid_derivative(sigmoid):\n",
        "  return sigmoid * (1 - sigmoid)\n",
        "\n",
        "s = sigmoid_activation_function(0.5)\n",
        "print(s)\n",
        "\n",
        "a = sigmoid_derivative(s)\n",
        "print(a)\n",
        "\n"
      ],
      "metadata": {
        "colab": {
          "base_uri": "https://localhost:8080/"
        },
        "id": "k43y3EDJyRf8",
        "outputId": "7b41544e-d050-43bd-f208-28b2466af269"
      },
      "execution_count": 10,
      "outputs": [
        {
          "output_type": "stream",
          "name": "stdout",
          "text": [
            "0.6224593312018546\n",
            "0.2350037122015945\n"
          ]
        }
      ]
    },
    {
      "cell_type": "code",
      "source": [
        "def delta_calculator(errors, sigmoid_activations):\n",
        "     return errors * sigmoid_derivative(sigmoid_activations)\n",
        "\n",
        "delta_outputs = delta_calculator(error_layer, output_layer)\n",
        "delta_outputs"
      ],
      "metadata": {
        "colab": {
          "base_uri": "https://localhost:8080/"
        },
        "id": "T2wrR7oL4DRt",
        "outputId": "e3421f9d-0637-450a-88b2-2495c741800e"
      },
      "execution_count": 11,
      "outputs": [
        {
          "output_type": "execute_result",
          "data": {
            "text/plain": [
              "array([[-0.0978763 ],\n",
              "       [ 0.13939397],\n",
              "       [ 0.138553  ],\n",
              "       [-0.11369557]])"
            ]
          },
          "metadata": {},
          "execution_count": 11
        }
      ]
    },
    {
      "cell_type": "code",
      "source": [
        "#need to transpose for matrix manipulation\n",
        "weights1_transposed = weights1.T\n",
        "weights1_transposed\n",
        "\n",
        "\n",
        "\n",
        "delta_mulitiplied_weight = delta_outputs.dot(weights1_transposed)\n",
        "delta_mulitiplied_weight\n",
        "\n",
        "delta_hidden = sigmoid_derivative(hidden_layer) * delta_mulitiplied_weight\n",
        "delta_hidden"
      ],
      "metadata": {
        "colab": {
          "base_uri": "https://localhost:8080/"
        },
        "id": "8ZLOhbUoU5kX",
        "outputId": "93cbace2-646b-4877-fd9d-cdd23ad10a81"
      },
      "execution_count": 12,
      "outputs": [
        {
          "output_type": "execute_result",
          "data": {
            "text/plain": [
              "array([[ 0.00041597,  0.02185088, -0.00362142],\n",
              "       [-0.00057384, -0.02866677,  0.00488404],\n",
              "       [-0.00056316, -0.02705587,  0.00410378],\n",
              "       [ 0.00048268,  0.01692128, -0.00262183]])"
            ]
          },
          "metadata": {},
          "execution_count": 12
        }
      ]
    },
    {
      "cell_type": "code",
      "source": [
        "print(hidden_layer)\n",
        "hidden_layer_transpose = hidden_layer.T\n",
        "#first col is activation value (input for backpropogation) for all 4 inputs\n",
        "#2nd col is activation value (input for backpropogation) for all 4 inputs vice versa\n",
        "hidden_input_multby_delta = hidden_layer_transpose.dot(delta_outputs)\n",
        "hidden_input_multby_delta #now these are the new weights from hidden layer to the output layer"
      ],
      "metadata": {
        "colab": {
          "base_uri": "https://localhost:8080/"
        },
        "id": "qCZFFJLPZ0wk",
        "outputId": "047f0ec5-0810-42da-bd09-9a077e68d953"
      },
      "execution_count": 13,
      "outputs": [
        {
          "output_type": "stream",
          "name": "stdout",
          "text": [
            "[[0.5        0.5        0.5       ]\n",
            " [0.5885562  0.35962319 0.38485296]\n",
            " [0.39555998 0.32300414 0.27667802]\n",
            " [0.48350599 0.21131785 0.19309868]]\n"
          ]
        },
        {
          "output_type": "execute_result",
          "data": {
            "text/plain": [
              "array([[0.03293657],\n",
              "       [0.02191844],\n",
              "       [0.02108814]])"
            ]
          },
          "metadata": {},
          "execution_count": 13
        }
      ]
    },
    {
      "cell_type": "code",
      "source": [
        "learn_rate = 0.3\n",
        "#update the weights\n",
        "weights1 = weights1 + (hidden_input_multby_delta * learn_rate)\n",
        "weights1 #new hidden layer to output weights"
      ],
      "metadata": {
        "colab": {
          "base_uri": "https://localhost:8080/"
        },
        "id": "F_aWSEiya0j5",
        "outputId": "4bc021f4-c25e-41ec-a032-3d9f005201f1"
      },
      "execution_count": 14,
      "outputs": [
        {
          "output_type": "execute_result",
          "data": {
            "text/plain": [
              "array([[-0.00711903],\n",
              "       [-0.88642447],\n",
              "       [ 0.15432644]])"
            ]
          },
          "metadata": {},
          "execution_count": 14
        }
      ]
    },
    {
      "cell_type": "code",
      "source": [
        "#updating the weights from input to hidden layer\n",
        "inputs\n",
        "delta_hidden\n",
        "\n",
        "inputs_transpose = inputs.T\n",
        "\n",
        "input_mult_delta_hidden = inputs_transpose.dot(delta_hidden)\n",
        "input_mult_delta_hidden\n",
        "\n",
        "weights0 = weights0 + (input_mult_delta_hidden * learn_rate)\n",
        "weights0 #now weights from input to hidden layers\n",
        "#first col is x1 and x2 to first node\n",
        "#second col is x1 and x2 to second node etc."
      ],
      "metadata": {
        "colab": {
          "base_uri": "https://localhost:8080/"
        },
        "id": "-0uIraoddh-t",
        "outputId": "296a48e7-0c0e-455f-e984-3fb7142b7f55"
      },
      "execution_count": 15,
      "outputs": [
        {
          "output_type": "execute_result",
          "data": {
            "text/plain": [
              "array([[-0.42402414, -0.74304038, -0.96055542],\n",
              "       [ 0.35797265, -0.58052365, -0.46832134]])"
            ]
          },
          "metadata": {},
          "execution_count": 15
        }
      ]
    },
    {
      "cell_type": "markdown",
      "source": [
        "# Network"
      ],
      "metadata": {
        "id": "dBBuGzeB3uFU"
      }
    },
    {
      "cell_type": "code",
      "source": [
        "from IPython.utils.contexts import NoOpContext\n",
        "print(\"inputs are\", inputs)\n",
        "print(\"results for said inputs are\", outputs)\n",
        "print(\"Learn rate = \", learn_rate)\n",
        "\n",
        "def summation_function(vector):\n",
        "  result = vector.dot(weights)\n",
        "  return result\n",
        "\n",
        "def sigmoid_activation_function(sum):\n",
        "  return 1/(1+(np.exp(-sum)))\n",
        "\n",
        "\n",
        "def sigmoid_derivative(sigmoid):\n",
        "  return sigmoid * (1 - sigmoid)\n",
        "\n",
        "def delta_calculator(errors, sigmoid_activations):\n",
        "     return errors * sigmoid_derivative(sigmoid_activations)\n",
        "\n",
        "def calculate_output(instance):\n",
        "  hidden_layer = sigmoid_activation_function(np.dot(instance, weights0))\n",
        "  output_layer = sigmoid_activation_function(np.dot(instance, weights1))\n",
        "  return output_layer\n",
        "\n",
        "#weight initializer\n",
        "def weight_initializer():\n",
        "  weights0 = np.random(random(2,3))\n",
        "  weights1 = np.random(random(3,1))\n",
        "\n",
        "\n",
        "#weights\n",
        "#for 1 hidden layer, with 2 neurons\n",
        "print(weights0)\n",
        "print(weights1)\n",
        "\n",
        "#can either specify your epochs or just run on autopilot for a threshold\n",
        "\n"
      ],
      "metadata": {
        "colab": {
          "base_uri": "https://localhost:8080/"
        },
        "id": "GBb3t4rK3wQQ",
        "outputId": "cfc223d7-6e9d-48a0-f624-5cd3dc98fc3b"
      },
      "execution_count": 16,
      "outputs": [
        {
          "output_type": "stream",
          "name": "stdout",
          "text": [
            "inputs are [[0 0]\n",
            " [0 1]\n",
            " [1 0]\n",
            " [1 1]]\n",
            "results for said inputs are [[0]\n",
            " [1]\n",
            " [1]\n",
            " [0]]\n",
            "Learn rate =  0.3\n",
            "[[-0.42402414 -0.74304038 -0.96055542]\n",
            " [ 0.35797265 -0.58052365 -0.46832134]]\n",
            "[[-0.00711903]\n",
            " [-0.88642447]\n",
            " [ 0.15432644]]\n"
          ]
        }
      ]
    },
    {
      "cell_type": "markdown",
      "source": [
        "## Flower Set"
      ],
      "metadata": {
        "id": "GkCLsZkIs_n-"
      }
    },
    {
      "cell_type": "code",
      "source": [
        "from sklearn import datasets\n",
        "\n",
        "\n",
        "iris = datasets.load_iris()"
      ],
      "metadata": {
        "id": "2fMONwActD_9"
      },
      "execution_count": 17,
      "outputs": []
    },
    {
      "cell_type": "code",
      "source": [
        "iris.data\n",
        "#contains x1, x2, x3, x4\n",
        "\n",
        "iris.feature_names\n",
        "print(iris.target)\n",
        "\n",
        "print(iris.target_names)"
      ],
      "metadata": {
        "colab": {
          "base_uri": "https://localhost:8080/"
        },
        "id": "RMAX5HROtSiA",
        "outputId": "6002e3b8-d238-4cc6-c37a-e3354b62c03c"
      },
      "execution_count": 18,
      "outputs": [
        {
          "output_type": "stream",
          "name": "stdout",
          "text": [
            "[0 0 0 0 0 0 0 0 0 0 0 0 0 0 0 0 0 0 0 0 0 0 0 0 0 0 0 0 0 0 0 0 0 0 0 0 0\n",
            " 0 0 0 0 0 0 0 0 0 0 0 0 0 1 1 1 1 1 1 1 1 1 1 1 1 1 1 1 1 1 1 1 1 1 1 1 1\n",
            " 1 1 1 1 1 1 1 1 1 1 1 1 1 1 1 1 1 1 1 1 1 1 1 1 1 1 2 2 2 2 2 2 2 2 2 2 2\n",
            " 2 2 2 2 2 2 2 2 2 2 2 2 2 2 2 2 2 2 2 2 2 2 2 2 2 2 2 2 2 2 2 2 2 2 2 2 2\n",
            " 2 2]\n",
            "['setosa' 'versicolor' 'virginica']\n"
          ]
        }
      ]
    },
    {
      "cell_type": "code",
      "source": [
        "inputs = iris.data[0:100]\n",
        "outputs = iris.target[0:100]\n",
        "\n",
        "outputs = outputs.reshape(-1,1)\n"
      ],
      "metadata": {
        "id": "XfpJZFZOuCkK"
      },
      "execution_count": 19,
      "outputs": []
    },
    {
      "cell_type": "code",
      "source": [
        "\n",
        "def summation_function(vector):\n",
        "  result = vector.dot(weights)\n",
        "  return result\n",
        "\n",
        "def sigmoid_activation_function(sum):\n",
        "  return 1/(1+(np.exp(-sum)))\n",
        "\n",
        "\n",
        "def sigmoid_derivative(sigmoid):\n",
        "  return sigmoid * (1 - sigmoid)\n",
        "\n",
        "def delta_calculator(errors, sigmoid_activations):\n",
        "     return errors * sigmoid_derivative(sigmoid_activations)\n",
        "\n",
        "weights0 = 2 * np.random.random((4,3)) - 1\n",
        "weights1 = 2* np.random.random((3,1)) - 1"
      ],
      "metadata": {
        "id": "RuSG7psfvkd1"
      },
      "execution_count": 20,
      "outputs": []
    }
  ]
}