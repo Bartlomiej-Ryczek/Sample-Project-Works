{
  "nbformat": 4,
  "nbformat_minor": 0,
  "metadata": {
    "colab": {
      "provenance": [],
      "authorship_tag": "ABX9TyO1LbYq3RobvvD23J0J8Y6H"
    },
    "kernelspec": {
      "name": "python3",
      "display_name": "Python 3"
    },
    "language_info": {
      "name": "python"
    }
  },
  "cells": [
    {
      "cell_type": "markdown",
      "source": [
        "# Activation Function example: Sigmoid Function"
      ],
      "metadata": {
        "id": "uq6XqOvESr0B"
      }
    },
    {
      "cell_type": "code",
      "source": [
        "import numpy as np\n",
        "import sklearn"
      ],
      "metadata": {
        "id": "Wfjcq5dwSuds"
      },
      "execution_count": null,
      "outputs": []
    },
    {
      "cell_type": "code",
      "source": [
        "weights = np.array([.8,.1])\n",
        "inputs = np.array([25,35])"
      ],
      "metadata": {
        "id": "0renyiK5UKW5"
      },
      "execution_count": null,
      "outputs": []
    },
    {
      "cell_type": "code",
      "source": [
        "def summation_function(vector):\n",
        "  result = vector.dot(weights)\n",
        "  return result\n",
        "\n",
        "def sigmoid_activation_function(sum):\n",
        "  return 1/(1+(np.exp(-sum)))\n",
        "\n",
        "#sigmoid_activation_function(summation_function(inputs))\n",
        "\n",
        "sigmoid_activation_function(-25.5)"
      ],
      "metadata": {
        "colab": {
          "base_uri": "https://localhost:8080/"
        },
        "id": "rk0gmTooTXp4",
        "outputId": "34bf7167-aa64-4643-ca61-6366353e0bdd"
      },
      "execution_count": null,
      "outputs": [
        {
          "output_type": "execute_result",
          "data": {
            "text/plain": [
              "8.423463754397692e-12"
            ]
          },
          "metadata": {},
          "execution_count": 8
        }
      ]
    },
    {
      "cell_type": "code",
      "source": [
        "inputs = np.array([[0,0], [0,1], [1,0], [1,1]])\n",
        "inputs.shape\n",
        "\n",
        "outputs = np.array([[0],[1],[1],[0]])\n",
        "outputs.shape\n",
        "\n",
        "weights0 = np.array([[-0.424, -0.740, -0.961],\n",
        "                    [0.358, -0.577, -0.469]]) #weights for x1 and x2, first array is x1\n",
        "\n",
        "weights1 = np.array([[-0.017],\n",
        "                    [-0.893],\n",
        "                    [0.148]]) #weights from hidden layer to output layer\n",
        "\n",
        "epochs = 100 #since we can't get 100% accuracy for more complex problems"
      ],
      "metadata": {
        "id": "i9Dqd4ey3X_5"
      },
      "execution_count": null,
      "outputs": []
    },
    {
      "cell_type": "code",
      "source": [
        "input_layer = inputs"
      ],
      "metadata": {
        "id": "pmQf2-vd52ib"
      },
      "execution_count": null,
      "outputs": []
    },
    {
      "cell_type": "code",
      "source": [
        "sum_synapse0 = np.dot(input_layer, weights0)\n",
        "print(sum_synapse0) #first row is sum function for 0,0: 2nd row is for 0,1 and so on\n"
      ],
      "metadata": {
        "colab": {
          "base_uri": "https://localhost:8080/"
        },
        "id": "BBaBknJK5_WS",
        "outputId": "989d5b96-77ba-4cd0-8cbd-0c7673f32572"
      },
      "execution_count": null,
      "outputs": [
        {
          "output_type": "stream",
          "name": "stdout",
          "text": [
            "[  1.93  -38.695 -40.44 ]\n"
          ]
        }
      ]
    },
    {
      "cell_type": "code",
      "source": [
        "hidden_layer = sigmoid_activation_function(sum_synapse0)\n",
        "hidden_layer"
      ],
      "metadata": {
        "colab": {
          "base_uri": "https://localhost:8080/"
        },
        "id": "TouDY6Rq6rBV",
        "outputId": "9756d9d2-9946-41a3-9a26-c9d57503c4da"
      },
      "execution_count": null,
      "outputs": [
        {
          "output_type": "execute_result",
          "data": {
            "text/plain": [
              "array([8.73249420e-01, 1.56666097e-17, 2.73609487e-18])"
            ]
          },
          "metadata": {},
          "execution_count": 11
        }
      ]
    },
    {
      "cell_type": "code",
      "source": [
        "#now we repeat for the hidden layer to output layer\n",
        "sum_synapse1 = np.dot(hidden_layer, weights1)\n",
        "print(sum_synapse1)\n",
        "\n",
        "output_layer = sigmoid_activation_function(sum_synapse1)\n",
        "output_layer"
      ],
      "metadata": {
        "colab": {
          "base_uri": "https://localhost:8080/"
        },
        "id": "HrE26W617Uua",
        "outputId": "d5ea1c3c-a50f-4825-bf12-e033d332f39c"
      },
      "execution_count": null,
      "outputs": [
        {
          "output_type": "stream",
          "name": "stdout",
          "text": [
            "[-0.01484524]\n"
          ]
        },
        {
          "output_type": "execute_result",
          "data": {
            "text/plain": [
              "array([0.49628876])"
            ]
          },
          "metadata": {},
          "execution_count": 12
        }
      ]
    },
    {
      "cell_type": "markdown",
      "source": [
        "# We also want to keep track of our errors, which calls for a loss-function\n",
        "\n",
        "error = correct - prediction, but other error calcs are usable"
      ],
      "metadata": {
        "id": "iLYLnXrx9e_s"
      }
    },
    {
      "cell_type": "code",
      "source": [
        "outputs\n",
        "output_layer\n",
        "print(output_layer)\n",
        "\n",
        "error_layer = outputs - output_layer\n",
        "print(error_layer)\n",
        "\n",
        "average_error = np.mean(abs(error_layer))\n",
        "average_error"
      ],
      "metadata": {
        "colab": {
          "base_uri": "https://localhost:8080/"
        },
        "id": "IRXgabXw9lb6",
        "outputId": "a63a191f-af12-4047-94a7-dbf73d6f2952"
      },
      "execution_count": null,
      "outputs": [
        {
          "output_type": "stream",
          "name": "stdout",
          "text": [
            "[0.49628876]\n",
            "[[-0.49628876]\n",
            " [ 0.50371124]\n",
            " [ 0.50371124]\n",
            " [-0.49628876]]\n"
          ]
        },
        {
          "output_type": "execute_result",
          "data": {
            "text/plain": [
              "0.5"
            ]
          },
          "metadata": {},
          "execution_count": 13
        }
      ]
    },
    {
      "cell_type": "markdown",
      "source": [
        " ## Sigmiod Derivative Example for Gradient Descent"
      ],
      "metadata": {
        "id": "-XdveEJoyR9d"
      }
    },
    {
      "cell_type": "code",
      "source": [
        "def sigmoid_derivative(sigmoid):\n",
        "  return sigmoid * (1 - sigmoid)\n",
        "\n",
        "s = sigmoid_activation_function(0.5)\n",
        "print(s)\n",
        "\n",
        "a = sigmoid_derivative(s)\n",
        "print(a)\n",
        "\n"
      ],
      "metadata": {
        "colab": {
          "base_uri": "https://localhost:8080/"
        },
        "id": "k43y3EDJyRf8",
        "outputId": "41a96127-8a4d-4c76-aebb-1e1b922f7f32"
      },
      "execution_count": null,
      "outputs": [
        {
          "output_type": "stream",
          "name": "stdout",
          "text": [
            "0.6224593312018546\n",
            "0.2350037122015945\n"
          ]
        }
      ]
    },
    {
      "cell_type": "code",
      "source": [
        "def delta_calculator(errors, sigmoid_activations):\n",
        "     return errors * sigmoid_derivative(sigmoid_activations)\n",
        "\n",
        "delta_outputs = delta_calculator(error_layer, output_layer)\n",
        "delta_outputs"
      ],
      "metadata": {
        "colab": {
          "base_uri": "https://localhost:8080/"
        },
        "id": "T2wrR7oL4DRt",
        "outputId": "8d04a353-0d0b-41eb-d0cf-264135279808"
      },
      "execution_count": null,
      "outputs": [
        {
          "output_type": "execute_result",
          "data": {
            "text/plain": [
              "array([[-0.12406535],\n",
              "       [ 0.12592087],\n",
              "       [ 0.12592087],\n",
              "       [-0.12406535]])"
            ]
          },
          "metadata": {},
          "execution_count": 15
        }
      ]
    },
    {
      "cell_type": "code",
      "source": [
        "#need to transpose for matrix manipulation\n",
        "weights1_transposed = weights1.T\n",
        "weights1_transposed\n",
        "\n",
        "\n",
        "\n",
        "delta_mulitiplied_weight = delta_outputs.dot(weights1_transposed)\n",
        "delta_mulitiplied_weight\n",
        "\n",
        "delta_hidden = sigmoid_derivative(hidden_layer) * delta_mulitiplied_weight\n",
        "delta_hidden"
      ],
      "metadata": {
        "colab": {
          "base_uri": "https://localhost:8080/"
        },
        "id": "8ZLOhbUoU5kX",
        "outputId": "c51765b1-7e97-40ed-be84-35d69e2a2031"
      },
      "execution_count": null,
      "outputs": [
        {
          "output_type": "execute_result",
          "data": {
            "text/plain": [
              "array([[ 2.33446680e-04,  1.73570934e-18, -5.02392776e-20],\n",
              "       [-2.36938103e-04, -1.76166857e-18,  5.09906552e-20],\n",
              "       [-2.36938103e-04, -1.76166857e-18,  5.09906552e-20],\n",
              "       [ 2.33446680e-04,  1.73570934e-18, -5.02392776e-20]])"
            ]
          },
          "metadata": {},
          "execution_count": 20
        }
      ]
    },
    {
      "cell_type": "code",
      "source": [
        "print(hidden_layer)\n",
        "hidden_layer_transpose = hidden_layer.T\n",
        "#first col is activation value (input for backpropogation) for all 4 inputs\n",
        "#2nd col is activation value (input for backpropogation) for all 4 inputs vice versa\n",
        "hidden_input_multby_delta = hidden_layer_transpose.dot(delta_outputs)\n",
        "hidden_input_multby_delta #now these are the new weights from hidden layer to the output layer"
      ],
      "metadata": {
        "colab": {
          "base_uri": "https://localhost:8080/",
          "height": 235
        },
        "id": "qCZFFJLPZ0wk",
        "outputId": "db10ec24-4326-405f-d9b8-2c8922af8afe"
      },
      "execution_count": null,
      "outputs": [
        {
          "output_type": "stream",
          "name": "stdout",
          "text": [
            "[8.73249420e-01 1.56666097e-17 2.73609487e-18]\n"
          ]
        },
        {
          "output_type": "error",
          "ename": "ValueError",
          "evalue": "ignored",
          "traceback": [
            "\u001b[0;31m---------------------------------------------------------------------------\u001b[0m",
            "\u001b[0;31mValueError\u001b[0m                                Traceback (most recent call last)",
            "\u001b[0;32m<ipython-input-25-01b4f8816124>\u001b[0m in \u001b[0;36m<cell line: 5>\u001b[0;34m()\u001b[0m\n\u001b[1;32m      3\u001b[0m \u001b[0;31m#first col is activation value (input for backpropogation) for all 4 inputs\u001b[0m\u001b[0;34m\u001b[0m\u001b[0;34m\u001b[0m\u001b[0m\n\u001b[1;32m      4\u001b[0m \u001b[0;31m#2nd col is activation value (input for backpropogation) for all 4 inputs vice versa\u001b[0m\u001b[0;34m\u001b[0m\u001b[0;34m\u001b[0m\u001b[0m\n\u001b[0;32m----> 5\u001b[0;31m \u001b[0mhidden_input_multby_delta\u001b[0m \u001b[0;34m=\u001b[0m \u001b[0mhidden_layer_transpose\u001b[0m\u001b[0;34m.\u001b[0m\u001b[0mdot\u001b[0m\u001b[0;34m(\u001b[0m\u001b[0mdelta_outputs\u001b[0m\u001b[0;34m)\u001b[0m\u001b[0;34m\u001b[0m\u001b[0;34m\u001b[0m\u001b[0m\n\u001b[0m\u001b[1;32m      6\u001b[0m \u001b[0mhidden_input_multby_delta\u001b[0m \u001b[0;31m#now these are the new weights from hidden layer to the output layer\u001b[0m\u001b[0;34m\u001b[0m\u001b[0;34m\u001b[0m\u001b[0m\n",
            "\u001b[0;31mValueError\u001b[0m: shapes (3,) and (4,1) not aligned: 3 (dim 0) != 4 (dim 0)"
          ]
        }
      ]
    },
    {
      "cell_type": "code",
      "source": [
        "learn_rate = 0.3\n",
        "#update the weights\n",
        "weights1 = weights1 + (hidden_input_multby_delta * learn_rate)\n",
        "weights1 #new hidden layer to output weights"
      ],
      "metadata": {
        "colab": {
          "base_uri": "https://localhost:8080/",
          "height": 217
        },
        "id": "F_aWSEiya0j5",
        "outputId": "21aa31f6-d7d0-414d-982a-e77df58df84f"
      },
      "execution_count": null,
      "outputs": [
        {
          "output_type": "error",
          "ename": "NameError",
          "evalue": "ignored",
          "traceback": [
            "\u001b[0;31m---------------------------------------------------------------------------\u001b[0m",
            "\u001b[0;31mNameError\u001b[0m                                 Traceback (most recent call last)",
            "\u001b[0;32m<ipython-input-18-8b9e999ab0be>\u001b[0m in \u001b[0;36m<cell line: 3>\u001b[0;34m()\u001b[0m\n\u001b[1;32m      1\u001b[0m \u001b[0mlearn_rate\u001b[0m \u001b[0;34m=\u001b[0m \u001b[0;36m0.3\u001b[0m\u001b[0;34m\u001b[0m\u001b[0;34m\u001b[0m\u001b[0m\n\u001b[1;32m      2\u001b[0m \u001b[0;31m#update the weights\u001b[0m\u001b[0;34m\u001b[0m\u001b[0;34m\u001b[0m\u001b[0m\n\u001b[0;32m----> 3\u001b[0;31m \u001b[0mweights1\u001b[0m \u001b[0;34m=\u001b[0m \u001b[0mweights1\u001b[0m \u001b[0;34m+\u001b[0m \u001b[0;34m(\u001b[0m\u001b[0mhidden_input_multby_delta\u001b[0m \u001b[0;34m*\u001b[0m \u001b[0mlearn_rate\u001b[0m\u001b[0;34m)\u001b[0m\u001b[0;34m\u001b[0m\u001b[0;34m\u001b[0m\u001b[0m\n\u001b[0m\u001b[1;32m      4\u001b[0m \u001b[0mweights1\u001b[0m \u001b[0;31m#new hidden layer to output weights\u001b[0m\u001b[0;34m\u001b[0m\u001b[0;34m\u001b[0m\u001b[0m\n",
            "\u001b[0;31mNameError\u001b[0m: name 'hidden_input_multby_delta' is not defined"
          ]
        }
      ]
    },
    {
      "cell_type": "code",
      "source": [
        "#updating the weights from input to hidden layer\n",
        "inputs\n",
        "delta_hidden\n",
        "\n",
        "inputs_transpose = inputs.T\n",
        "\n",
        "input_mult_delta_hidden = inputs_transpose.dot(delta_hidden)\n",
        "input_mult_delta_hidden\n",
        "\n",
        "weights0 = weights0 + (input_mult_delta_hidden * learn_rate)\n",
        "weights0 #now weights from input to hidden layers\n",
        "#first col is x1 and x2 to first node\n",
        "#second col is x1 and x2 to second node etc."
      ],
      "metadata": {
        "colab": {
          "base_uri": "https://localhost:8080/",
          "height": 235
        },
        "id": "-0uIraoddh-t",
        "outputId": "e045c01f-399e-4d10-a7f4-a0de3048593d"
      },
      "execution_count": null,
      "outputs": [
        {
          "output_type": "error",
          "ename": "ValueError",
          "evalue": "ignored",
          "traceback": [
            "\u001b[0;31m---------------------------------------------------------------------------\u001b[0m",
            "\u001b[0;31mValueError\u001b[0m                                Traceback (most recent call last)",
            "\u001b[0;32m<ipython-input-19-002ac504dd82>\u001b[0m in \u001b[0;36m<cell line: 7>\u001b[0;34m()\u001b[0m\n\u001b[1;32m      5\u001b[0m \u001b[0minputs_transpose\u001b[0m \u001b[0;34m=\u001b[0m \u001b[0minputs\u001b[0m\u001b[0;34m.\u001b[0m\u001b[0mT\u001b[0m\u001b[0;34m\u001b[0m\u001b[0;34m\u001b[0m\u001b[0m\n\u001b[1;32m      6\u001b[0m \u001b[0;34m\u001b[0m\u001b[0m\n\u001b[0;32m----> 7\u001b[0;31m \u001b[0minput_mult_delta_hidden\u001b[0m \u001b[0;34m=\u001b[0m \u001b[0minputs_transpose\u001b[0m\u001b[0;34m.\u001b[0m\u001b[0mdot\u001b[0m\u001b[0;34m(\u001b[0m\u001b[0mdelta_hidden\u001b[0m\u001b[0;34m)\u001b[0m\u001b[0;34m\u001b[0m\u001b[0;34m\u001b[0m\u001b[0m\n\u001b[0m\u001b[1;32m      8\u001b[0m \u001b[0minput_mult_delta_hidden\u001b[0m\u001b[0;34m\u001b[0m\u001b[0;34m\u001b[0m\u001b[0m\n\u001b[1;32m      9\u001b[0m \u001b[0;34m\u001b[0m\u001b[0m\n",
            "\u001b[0;31mValueError\u001b[0m: shapes (2,) and (4,3) not aligned: 2 (dim 0) != 4 (dim 0)"
          ]
        }
      ]
    },
    {
      "cell_type": "markdown",
      "source": [
        "# Network"
      ],
      "metadata": {
        "id": "dBBuGzeB3uFU"
      }
    },
    {
      "cell_type": "code",
      "source": [
        "from IPython.utils.contexts import NoOpContext\n",
        "print(\"inputs are\", inputs)\n",
        "print(\"results for said inputs are\", outputs)\n",
        "print(\"Learn rate = \", learn_rate)\n",
        "\n",
        "def summation_function(vector):\n",
        "  result = vector.dot(weights)\n",
        "  return result\n",
        "\n",
        "def sigmoid_activation_function(sum):\n",
        "  return 1/(1+(np.exp(-sum)))\n",
        "\n",
        "\n",
        "def sigmoid_derivative(sigmoid):\n",
        "  return sigmoid * (1 - sigmoid)\n",
        "\n",
        "def delta_calculator(errors, sigmoid_activations):\n",
        "     return errors * sigmoid_derivative(sigmoid_activations)\n",
        "\n",
        "def calculate_output(instance):\n",
        "  hidden_layer = sigmoid_activation_function(np.dot(instance, weights0))\n",
        "  output_layer = sigmoid_activation_function(np.dot(instance, weights1))\n",
        "  return output_layer\n",
        "\n",
        "#weight initializer\n",
        "def weight_initializer():\n",
        "  weights0 = np.random(random(2,3))\n",
        "  weights1 = np.random(random(3,1))\n",
        "\n",
        "\n",
        "#weights\n",
        "#for 1 hidden layer, with 2 neurons\n",
        "print(weights0)\n",
        "print(weights1)\n",
        "\n",
        "#can either specify your epochs or just run on autopilot for a threshold\n",
        "\n"
      ],
      "metadata": {
        "colab": {
          "base_uri": "https://localhost:8080/"
        },
        "id": "GBb3t4rK3wQQ",
        "outputId": "8c327737-c766-48df-da00-2c01dcb51468"
      },
      "execution_count": null,
      "outputs": [
        {
          "output_type": "stream",
          "name": "stdout",
          "text": [
            "inputs are [25 35]\n",
            "results for said inputs are [[0]\n",
            " [1]\n",
            " [1]\n",
            " [0]]\n",
            "Learn rate =  0.3\n",
            "[[-0.424 -0.74  -0.961]\n",
            " [ 0.358 -0.577 -0.469]]\n",
            "[[-0.017]\n",
            " [-0.893]\n",
            " [ 0.148]]\n"
          ]
        }
      ]
    },
    {
      "cell_type": "markdown",
      "source": [
        "## Flower Set"
      ],
      "metadata": {
        "id": "GkCLsZkIs_n-"
      }
    },
    {
      "cell_type": "code",
      "source": [
        "from sklearn import datasets\n",
        "\n",
        "\n",
        "iris = datasets.load_iris()"
      ],
      "metadata": {
        "id": "2fMONwActD_9"
      },
      "execution_count": null,
      "outputs": []
    },
    {
      "cell_type": "code",
      "source": [
        "iris.data\n",
        "#contains x1, x2, x3, x4\n",
        "\n",
        "iris.feature_names\n",
        "print(iris.target)\n",
        "\n",
        "print(iris.target_names)"
      ],
      "metadata": {
        "colab": {
          "base_uri": "https://localhost:8080/"
        },
        "id": "RMAX5HROtSiA",
        "outputId": "37f95b52-7060-4e24-a8da-e65cb12db77e"
      },
      "execution_count": null,
      "outputs": [
        {
          "output_type": "stream",
          "name": "stdout",
          "text": [
            "[0 0 0 0 0 0 0 0 0 0 0 0 0 0 0 0 0 0 0 0 0 0 0 0 0 0 0 0 0 0 0 0 0 0 0 0 0\n",
            " 0 0 0 0 0 0 0 0 0 0 0 0 0 1 1 1 1 1 1 1 1 1 1 1 1 1 1 1 1 1 1 1 1 1 1 1 1\n",
            " 1 1 1 1 1 1 1 1 1 1 1 1 1 1 1 1 1 1 1 1 1 1 1 1 1 1 2 2 2 2 2 2 2 2 2 2 2\n",
            " 2 2 2 2 2 2 2 2 2 2 2 2 2 2 2 2 2 2 2 2 2 2 2 2 2 2 2 2 2 2 2 2 2 2 2 2 2\n",
            " 2 2]\n",
            "['setosa' 'versicolor' 'virginica']\n"
          ]
        }
      ]
    },
    {
      "cell_type": "code",
      "source": [
        "inputs = iris.data[0:100]\n",
        "outputs = iris.target[0:100]\n",
        "\n",
        "outputs = outputs.reshape(-1,1)\n"
      ],
      "metadata": {
        "id": "XfpJZFZOuCkK"
      },
      "execution_count": null,
      "outputs": []
    },
    {
      "cell_type": "code",
      "source": [
        "\n",
        "def summation_function(vector):\n",
        "  result = vector.dot(weights)\n",
        "  return result\n",
        "\n",
        "def sigmoid_activation_function(sum):\n",
        "  return 1/(1+(np.exp(-sum)))\n",
        "\n",
        "\n",
        "def sigmoid_derivative(sigmoid):\n",
        "  return sigmoid * (1 - sigmoid)\n",
        "\n",
        "def delta_calculator(errors, sigmoid_activations):\n",
        "     return errors * sigmoid_derivative(sigmoid_activations)\n",
        "\n",
        "weights0 = 2 * np.random.random((4,3)) - 1\n",
        "weights1 = 2* np.random.random((3,1)) - 1"
      ],
      "metadata": {
        "id": "RuSG7psfvkd1"
      },
      "execution_count": null,
      "outputs": []
    }
  ]
}